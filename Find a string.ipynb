{
 "cells": [
  {
   "cell_type": "code",
   "execution_count": 1,
   "id": "08af938d",
   "metadata": {},
   "outputs": [
    {
     "name": "stdout",
     "output_type": "stream",
     "text": [
      "V\n",
      "i\n",
      "k\n",
      "a\n",
      "s\n"
     ]
    }
   ],
   "source": [
    "num=\"Vikas\"\n",
    "for i in range(len(num)):\n",
    "    print(num[i])"
   ]
  },
  {
   "cell_type": "code",
   "execution_count": 2,
   "id": "c06ba91c",
   "metadata": {},
   "outputs": [
    {
     "name": "stdout",
     "output_type": "stream",
     "text": [
      "V\n",
      "i\n",
      "k\n",
      "a\n",
      "s\n"
     ]
    }
   ],
   "source": [
    "for i in num:\n",
    "    print(i)"
   ]
  },
  {
   "cell_type": "code",
   "execution_count": 1,
   "id": "372b0481",
   "metadata": {},
   "outputs": [],
   "source": [
    "def count_substring(string, sub_string):\n",
    "    count=0\n",
    "#     string=input(\"Enter string: \")\n",
    "#     sub_string=input(\"Enter substring: \")\n",
    "    for i in range(len(string)):\n",
    "        print(string[i])\n",
    "        count=count+1\n",
    "    print(count)\n",
    "        \n",
    "    \n",
    "    return"
   ]
  },
  {
   "cell_type": "code",
   "execution_count": 2,
   "id": "42547702",
   "metadata": {},
   "outputs": [
    {
     "name": "stdout",
     "output_type": "stream",
     "text": [
      "V\n",
      "i\n",
      "k\n",
      "a\n",
      "s\n",
      "5\n"
     ]
    }
   ],
   "source": [
    "count_substring(\"Vikas\",\"kale\")"
   ]
  },
  {
   "cell_type": "code",
   "execution_count": 15,
   "id": "6fc2b6f1",
   "metadata": {},
   "outputs": [],
   "source": [
    "def count_substring(string, sub_string):  # Define function count_substring and give 2 parameters.\n",
    "    count=0                               # Intially count=0\n",
    "    l=len(sub_string)                      # define veriable l length of sub_string assign to it.\n",
    "    for i in range(len(string)):            # loop iterates len(string) times.\n",
    "        s=string[i:i+l]                     # fetch the elements in string using slicing.\n",
    "        \"\"\"\n",
    "        string=a b c d c d c\n",
    "               0 1 2 3 4 5 6\n",
    "        sub_string=c d c\n",
    "                   0 1 2\n",
    "               \n",
    "        for 1st:i=0\n",
    "                s=string[0:0+3] i.e check from a to c.Here 3 excluded; string[0:2]\n",
    "        for 2nd:i=1\n",
    "                s=string[1:1+3] i.e string[1:4] and 4 excluded ;string[1:3] check from b to d\n",
    "        for 3rd:i=2\n",
    "                s=string[2:2+3] i.e string[2:5] ;string[2:4] check from c to c ;and is equal to sub_string.\n",
    "        for 4th:i=3\n",
    "                s=string[3:3+3] i.e string[3:6] ;string[3:5] check from d to d \n",
    "                \n",
    "        for 5th:i=4\n",
    "                s=string[4:7] i.e string[4:6] check from c to c ; and is equal to sub_string.\n",
    "        \"\"\"\n",
    "        if s==sub_string:               # if the elements of s and sub_string same then condition true.\n",
    "            count+=1                      # incerase count.\n",
    "    \n",
    "        \n",
    "    \n",
    "        \n",
    "\n",
    "       \n",
    "                \n",
    "    return count\n",
    "#   ABCDCDC\n",
    "# CDC  "
   ]
  },
  {
   "cell_type": "code",
   "execution_count": 10,
   "id": "e1e13e11",
   "metadata": {},
   "outputs": [
    {
     "data": {
      "text/plain": [
       "2"
      ]
     },
     "execution_count": 10,
     "metadata": {},
     "output_type": "execute_result"
    }
   ],
   "source": [
    "count_substring('abcdcdc','cdc')"
   ]
  },
  {
   "cell_type": "code",
   "execution_count": 11,
   "id": "83f7d740",
   "metadata": {},
   "outputs": [
    {
     "name": "stdout",
     "output_type": "stream",
     "text": [
      "Help on function count_substring in module __main__:\n",
      "\n",
      "count_substring(string, sub_string)\n",
      "\n"
     ]
    }
   ],
   "source": [
    "help(count_substring)"
   ]
  },
  {
   "cell_type": "code",
   "execution_count": null,
   "id": "a693be29",
   "metadata": {},
   "outputs": [],
   "source": []
  }
 ],
 "metadata": {
  "kernelspec": {
   "display_name": "Python 3",
   "language": "python",
   "name": "python3"
  },
  "language_info": {
   "codemirror_mode": {
    "name": "ipython",
    "version": 3
   },
   "file_extension": ".py",
   "mimetype": "text/x-python",
   "name": "python",
   "nbconvert_exporter": "python",
   "pygments_lexer": "ipython3",
   "version": "3.8.8"
  }
 },
 "nbformat": 4,
 "nbformat_minor": 5
}
